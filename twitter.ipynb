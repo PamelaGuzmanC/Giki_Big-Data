{
 "cells": [
  {
   "cell_type": "code",
   "execution_count": 2,
   "metadata": {},
   "outputs": [
    {
     "name": "stdout",
     "output_type": "stream",
     "text": [
      "Collecting tweepy\n",
      "  Downloading tweepy-4.14.0-py3-none-any.whl.metadata (3.8 kB)\n",
      "Collecting oauthlib<4,>=3.2.0 (from tweepy)\n",
      "  Downloading oauthlib-3.2.2-py3-none-any.whl.metadata (7.5 kB)\n",
      "Requirement already satisfied: requests<3,>=2.27.0 in c:\\users\\fredd\\appdata\\local\\programs\\python\\python312\\lib\\site-packages (from tweepy) (2.31.0)\n",
      "Collecting requests-oauthlib<2,>=1.2.0 (from tweepy)\n",
      "  Downloading requests_oauthlib-1.3.1-py2.py3-none-any.whl.metadata (10 kB)\n",
      "Requirement already satisfied: charset-normalizer<4,>=2 in c:\\users\\fredd\\appdata\\local\\programs\\python\\python312\\lib\\site-packages (from requests<3,>=2.27.0->tweepy) (3.3.2)\n",
      "Requirement already satisfied: idna<4,>=2.5 in c:\\users\\fredd\\appdata\\local\\programs\\python\\python312\\lib\\site-packages (from requests<3,>=2.27.0->tweepy) (3.7)\n",
      "Requirement already satisfied: urllib3<3,>=1.21.1 in c:\\users\\fredd\\appdata\\local\\programs\\python\\python312\\lib\\site-packages (from requests<3,>=2.27.0->tweepy) (2.2.1)\n",
      "Requirement already satisfied: certifi>=2017.4.17 in c:\\users\\fredd\\appdata\\local\\programs\\python\\python312\\lib\\site-packages (from requests<3,>=2.27.0->tweepy) (2024.2.2)\n",
      "Downloading tweepy-4.14.0-py3-none-any.whl (98 kB)\n",
      "   ---------------------------------------- 0.0/98.5 kB ? eta -:--:--\n",
      "   ----------------------------- ---------- 71.7/98.5 kB 2.0 MB/s eta 0:00:01\n",
      "   ---------------------------------------- 98.5/98.5 kB 1.1 MB/s eta 0:00:00\n",
      "Downloading oauthlib-3.2.2-py3-none-any.whl (151 kB)\n",
      "   ---------------------------------------- 0.0/151.7 kB ? eta -:--:--\n",
      "   ---------------------------------------- 0.0/151.7 kB ? eta -:--:--\n",
      "   -------------------------------- ------- 122.9/151.7 kB 3.6 MB/s eta 0:00:01\n",
      "   ---------------------------------------- 151.7/151.7 kB 3.0 MB/s eta 0:00:00\n",
      "Downloading requests_oauthlib-1.3.1-py2.py3-none-any.whl (23 kB)\n",
      "Installing collected packages: oauthlib, requests-oauthlib, tweepy\n",
      "Successfully installed oauthlib-3.2.2 requests-oauthlib-1.3.1 tweepy-4.14.0\n",
      "Note: you may need to restart the kernel to use updated packages.\n"
     ]
    },
    {
     "name": "stderr",
     "output_type": "stream",
     "text": [
      "  WARNING: Retrying (Retry(total=4, connect=None, read=None, redirect=None, status=None)) after connection broken by 'NewConnectionError('<pip._vendor.urllib3.connection.HTTPSConnection object at 0x000001A97E6B0EC0>: Failed to establish a new connection: [Errno 11001] getaddrinfo failed')': /packages/4d/78/ba0065d5636bbf4a35b78c4f81b74e7858b609cdf69e629d6da5c91b9d92/tweepy-4.14.0-py3-none-any.whl.metadata\n",
      "  WARNING: Retrying (Retry(total=3, connect=None, read=None, redirect=None, status=None)) after connection broken by 'NewConnectionError('<pip._vendor.urllib3.connection.HTTPSConnection object at 0x000001A97E6B0C20>: Failed to establish a new connection: [Errno 11001] getaddrinfo failed')': /packages/4d/78/ba0065d5636bbf4a35b78c4f81b74e7858b609cdf69e629d6da5c91b9d92/tweepy-4.14.0-py3-none-any.whl.metadata\n",
      "  WARNING: Retrying (Retry(total=2, connect=None, read=None, redirect=None, status=None)) after connection broken by 'NewConnectionError('<pip._vendor.urllib3.connection.HTTPSConnection object at 0x000001A97E6B0FB0>: Failed to establish a new connection: [Errno 11001] getaddrinfo failed')': /packages/4d/78/ba0065d5636bbf4a35b78c4f81b74e7858b609cdf69e629d6da5c91b9d92/tweepy-4.14.0-py3-none-any.whl.metadata\n",
      "  WARNING: Retrying (Retry(total=1, connect=None, read=None, redirect=None, status=None)) after connection broken by 'NewConnectionError('<pip._vendor.urllib3.connection.HTTPSConnection object at 0x000001A97E6B1130>: Failed to establish a new connection: [Errno 11001] getaddrinfo failed')': /packages/4d/78/ba0065d5636bbf4a35b78c4f81b74e7858b609cdf69e629d6da5c91b9d92/tweepy-4.14.0-py3-none-any.whl.metadata\n"
     ]
    }
   ],
   "source": [
    "pip install tweepy"
   ]
  },
  {
   "cell_type": "code",
   "execution_count": 3,
   "metadata": {},
   "outputs": [],
   "source": [
    "import tweepy\n",
    "import csv\n",
    "# import pandas as pd\n",
    "#### Put your credentials here\n",
    "\n",
    "consumer_key = 'KxfRSa0xlUlnmBC8avHUm9CUY' \n",
    "consumer_secret = 'sYUCvPgi5LCtkXro2CcSmSrq2jaTTuEFIKmwb1S1ces30hEUKt' \n",
    "access_token = '52293604-EgRFAcAQzNMDq3CTTRh2JREWwe69LxqzdspKZN57b'\n",
    "access_token_secret = 'VOaoUeiLzZ0hjopQaYIj75Jsu381hjHocSdz4gu835jI0'\n",
    "\n",
    "\n",
    "\n",
    "auth = tweepy.OAuthHandler(consumer_key, consumer_secret)\n",
    "auth.set_access_token(access_token, access_token_secret)\n",
    "api = tweepy.API(auth,wait_on_rate_limit=True)"
   ]
  },
  {
   "cell_type": "code",
   "execution_count": 6,
   "metadata": {},
   "outputs": [
    {
     "name": "stderr",
     "output_type": "stream",
     "text": [
      "Unexpected parameter: since\n",
      "c:\\Users\\fredd\\AppData\\Local\\Programs\\Python\\Python312\\Lib\\site-packages\\tweepy\\api.py:301: SyntaxWarning: invalid escape sequence '\\['\n",
      "  \"\"\"home_timeline(*, count, since_id, max_id, trim_user, \\\n",
      "c:\\Users\\fredd\\AppData\\Local\\Programs\\Python\\Python312\\Lib\\site-packages\\tweepy\\api.py:341: SyntaxWarning: invalid escape sequence '\\['\n",
      "  \"\"\"mentions_timeline(*, count, since_id, max_id, trim_user, \\\n",
      "c:\\Users\\fredd\\AppData\\Local\\Programs\\Python\\Python312\\Lib\\site-packages\\tweepy\\api.py:376: SyntaxWarning: invalid escape sequence '\\['\n",
      "  \"\"\"user_timeline(*, user_id, screen_name, since_id, count, max_id, \\\n",
      "c:\\Users\\fredd\\AppData\\Local\\Programs\\Python\\Python312\\Lib\\site-packages\\tweepy\\api.py:426: SyntaxWarning: invalid escape sequence '\\['\n",
      "  \"\"\"get_favorites(*, user_id, screen_name, count, since_id, max_id, \\\n",
      "c:\\Users\\fredd\\AppData\\Local\\Programs\\Python\\Python312\\Lib\\site-packages\\tweepy\\api.py:467: SyntaxWarning: invalid escape sequence '\\['\n",
      "  \"\"\"lookup_statuses(id, *, include_entities, trim_user, map, \\\n",
      "c:\\Users\\fredd\\AppData\\Local\\Programs\\Python\\Python312\\Lib\\site-packages\\tweepy\\api.py:599: SyntaxWarning: invalid escape sequence '\\['\n",
      "  \"\"\"get_retweeter_ids(id, *, count, cursor, stringify_ids)\n",
      "c:\\Users\\fredd\\AppData\\Local\\Programs\\Python\\Python312\\Lib\\site-packages\\tweepy\\api.py:634: SyntaxWarning: invalid escape sequence '\\['\n",
      "  \"\"\"get_retweets(id, *, count, trim_user)\n",
      "c:\\Users\\fredd\\AppData\\Local\\Programs\\Python\\Python312\\Lib\\site-packages\\tweepy\\api.py:667: SyntaxWarning: invalid escape sequence '\\['\n",
      "  \"\"\"get_retweets_of_me(*, count, since_id, max_id, trim_user, \\\n",
      "c:\\Users\\fredd\\AppData\\Local\\Programs\\Python\\Python312\\Lib\\site-packages\\tweepy\\api.py:1055: SyntaxWarning: invalid escape sequence '\\ '\n",
      "  \"\"\"search_tweets(q, *, geocode, lang, locale, result_type, count, \\\n",
      "c:\\Users\\fredd\\AppData\\Local\\Programs\\Python\\Python312\\Lib\\site-packages\\tweepy\\api.py:1157: SyntaxWarning: invalid escape sequence '\\['\n",
      "  \"\"\"get_lists(*, user_id, screen_name, reverse)\n",
      "c:\\Users\\fredd\\AppData\\Local\\Programs\\Python\\Python312\\Lib\\site-packages\\tweepy\\api.py:1202: SyntaxWarning: invalid escape sequence '\\['\n",
      "  \"\"\"get_list_members(*, list_id, slug, owner_screen_name, owner_id, \\\n",
      "c:\\Users\\fredd\\AppData\\Local\\Programs\\Python\\Python312\\Lib\\site-packages\\tweepy\\api.py:1299: SyntaxWarning: invalid escape sequence '\\['\n",
      "  \"\"\"get_list_memberships(*, user_id, screen_name, count, cursor, \\\n",
      "c:\\Users\\fredd\\AppData\\Local\\Programs\\Python\\Python312\\Lib\\site-packages\\tweepy\\api.py:1342: SyntaxWarning: invalid escape sequence '\\['\n",
      "  \"\"\"get_list_ownerships(*, user_id, screen_name, count, cursor)\n",
      "c:\\Users\\fredd\\AppData\\Local\\Programs\\Python\\Python312\\Lib\\site-packages\\tweepy\\api.py:1409: SyntaxWarning: invalid escape sequence '\\['\n",
      "  \"\"\"list_timeline( \\\n",
      "c:\\Users\\fredd\\AppData\\Local\\Programs\\Python\\Python312\\Lib\\site-packages\\tweepy\\api.py:1460: SyntaxWarning: invalid escape sequence '\\['\n",
      "  \"\"\"get_list_subscribers( \\\n",
      "c:\\Users\\fredd\\AppData\\Local\\Programs\\Python\\Python312\\Lib\\site-packages\\tweepy\\api.py:1559: SyntaxWarning: invalid escape sequence '\\['\n",
      "  \"\"\"get_list_subscriptions(*, user_id, screen_name, count, cursor)\n",
      "c:\\Users\\fredd\\AppData\\Local\\Programs\\Python\\Python312\\Lib\\site-packages\\tweepy\\api.py:1927: SyntaxWarning: invalid escape sequence '\\['\n",
      "  \"\"\"get_follower_ids(*, user_id, screen_name, cursor, stringify_ids, \\\n",
      "c:\\Users\\fredd\\AppData\\Local\\Programs\\Python\\Python312\\Lib\\site-packages\\tweepy\\api.py:1966: SyntaxWarning: invalid escape sequence '\\['\n",
      "  \"\"\"get_followers(*, user_id, screen_name, cursor, count, skip_status, \\\n",
      "c:\\Users\\fredd\\AppData\\Local\\Programs\\Python\\Python312\\Lib\\site-packages\\tweepy\\api.py:2008: SyntaxWarning: invalid escape sequence '\\['\n",
      "  \"\"\"get_friend_ids(*, user_id, screen_name, cursor, stringify_ids, \\\n",
      "c:\\Users\\fredd\\AppData\\Local\\Programs\\Python\\Python312\\Lib\\site-packages\\tweepy\\api.py:2047: SyntaxWarning: invalid escape sequence '\\['\n",
      "  \"\"\"get_friends(*, user_id, screen_name, cursor, count, skip_status, \\\n",
      "c:\\Users\\fredd\\AppData\\Local\\Programs\\Python\\Python312\\Lib\\site-packages\\tweepy\\api.py:2089: SyntaxWarning: invalid escape sequence '\\['\n",
      "  \"\"\"incoming_friendships(*, cursor, stringify_ids)\n",
      "c:\\Users\\fredd\\AppData\\Local\\Programs\\Python\\Python312\\Lib\\site-packages\\tweepy\\api.py:2120: SyntaxWarning: invalid escape sequence '\\['\n",
      "  \"\"\"lookup_friendships(*, screen_name, user_id)\n",
      "c:\\Users\\fredd\\AppData\\Local\\Programs\\Python\\Python312\\Lib\\site-packages\\tweepy\\api.py:2149: SyntaxWarning: invalid escape sequence '\\['\n",
      "  \"\"\"no_retweets_friendships(*, stringify_ids)\n",
      "c:\\Users\\fredd\\AppData\\Local\\Programs\\Python\\Python312\\Lib\\site-packages\\tweepy\\api.py:2176: SyntaxWarning: invalid escape sequence '\\['\n",
      "  \"\"\"outgoing_friendships(*, cursor, stringify_ids)\n",
      "c:\\Users\\fredd\\AppData\\Local\\Programs\\Python\\Python312\\Lib\\site-packages\\tweepy\\api.py:2243: SyntaxWarning: invalid escape sequence '\\['\n",
      "  \"\"\"lookup_users(*, screen_name, user_id, include_entities, tweet_mode)\n",
      "c:\\Users\\fredd\\AppData\\Local\\Programs\\Python\\Python312\\Lib\\site-packages\\tweepy\\api.py:2290: SyntaxWarning: invalid escape sequence '\\['\n",
      "  \"\"\"search_users(q, *, page, count, include_entities)\n",
      "c:\\Users\\fredd\\AppData\\Local\\Programs\\Python\\Python312\\Lib\\site-packages\\tweepy\\api.py:2500: SyntaxWarning: invalid escape sequence '\\['\n",
      "  \"\"\"get_saved_searches()\n",
      "c:\\Users\\fredd\\AppData\\Local\\Programs\\Python\\Python312\\Lib\\site-packages\\tweepy\\api.py:2814: SyntaxWarning: invalid escape sequence '\\['\n",
      "  \"\"\"get_blocked_ids(*, stringify_ids, cursor)\n",
      "c:\\Users\\fredd\\AppData\\Local\\Programs\\Python\\Python312\\Lib\\site-packages\\tweepy\\api.py:2846: SyntaxWarning: invalid escape sequence '\\['\n",
      "  \"\"\"get_blocks(*, include_entities, skip_status, cursor)\n",
      "c:\\Users\\fredd\\AppData\\Local\\Programs\\Python\\Python312\\Lib\\site-packages\\tweepy\\api.py:2880: SyntaxWarning: invalid escape sequence '\\['\n",
      "  \"\"\"get_muted_ids(*, stringify_ids, cursor)\n",
      "c:\\Users\\fredd\\AppData\\Local\\Programs\\Python\\Python312\\Lib\\site-packages\\tweepy\\api.py:2911: SyntaxWarning: invalid escape sequence '\\['\n",
      "  \"\"\"get_mutes(*, cursor, include_entities, skip_status)\n",
      "c:\\Users\\fredd\\AppData\\Local\\Programs\\Python\\Python312\\Lib\\site-packages\\tweepy\\api.py:3126: SyntaxWarning: invalid escape sequence '\\['\n",
      "  \"\"\"get_direct_messages(*, count, cursor)\n",
      "c:\\Users\\fredd\\AppData\\Local\\Programs\\Python\\Python312\\Lib\\site-packages\\tweepy\\api.py:3788: SyntaxWarning: invalid escape sequence '\\['\n",
      "  \"\"\"reverse_geocode(lat, long, *, accuracy, granularity, max_results)\n",
      "c:\\Users\\fredd\\AppData\\Local\\Programs\\Python\\Python312\\Lib\\site-packages\\tweepy\\api.py:3829: SyntaxWarning: invalid escape sequence '\\['\n",
      "  \"\"\"search_geo(*, lat, long, query, ip, granularity, max_results)\n"
     ]
    },
    {
     "ename": "Unauthorized",
     "evalue": "401 Unauthorized\n89 - Invalid or expired token.",
     "output_type": "error",
     "traceback": [
      "\u001b[1;31m---------------------------------------------------------------------------\u001b[0m",
      "\u001b[1;31mUnauthorized\u001b[0m                              Traceback (most recent call last)",
      "Cell \u001b[1;32mIn[6], line 17\u001b[0m\n\u001b[0;32m     15\u001b[0m \u001b[38;5;66;03m# Search and write tweets to the CSV file\u001b[39;00m\n\u001b[0;32m     16\u001b[0m i \u001b[38;5;241m=\u001b[39m \u001b[38;5;241m0\u001b[39m\n\u001b[1;32m---> 17\u001b[0m \u001b[43m\u001b[49m\u001b[38;5;28;43;01mfor\u001b[39;49;00m\u001b[43m \u001b[49m\u001b[43mtweet\u001b[49m\u001b[43m \u001b[49m\u001b[38;5;129;43;01min\u001b[39;49;00m\u001b[43m \u001b[49m\u001b[43mtweepy\u001b[49m\u001b[38;5;241;43m.\u001b[39;49m\u001b[43mCursor\u001b[49m\u001b[43m(\u001b[49m\u001b[43mapi\u001b[49m\u001b[38;5;241;43m.\u001b[39;49m\u001b[43msearch_tweets\u001b[49m\u001b[43m,\u001b[49m\u001b[43m \u001b[49m\u001b[43mq\u001b[49m\u001b[38;5;241;43m=\u001b[39;49m\u001b[43mtexto_a_buscar\u001b[49m\u001b[43m,\u001b[49m\u001b[43m \u001b[49m\u001b[43mlang\u001b[49m\u001b[38;5;241;43m=\u001b[39;49m\u001b[43midioma\u001b[49m\u001b[43m,\u001b[49m\u001b[43m \u001b[49m\u001b[43msince\u001b[49m\u001b[38;5;241;43m=\u001b[39;49m\u001b[43mfechas_inicial\u001b[49m\u001b[43m)\u001b[49m\u001b[38;5;241;43m.\u001b[39;49m\u001b[43mitems\u001b[49m\u001b[43m(\u001b[49m\u001b[43mcantidad_resultados\u001b[49m\u001b[43m)\u001b[49m\u001b[43m:\u001b[49m\n\u001b[0;32m     18\u001b[0m \u001b[43m    \u001b[49m\u001b[43mi\u001b[49m\u001b[43m \u001b[49m\u001b[38;5;241;43m+\u001b[39;49m\u001b[38;5;241;43m=\u001b[39;49m\u001b[43m \u001b[49m\u001b[38;5;241;43m1\u001b[39;49m\n\u001b[0;32m     19\u001b[0m \u001b[43m    \u001b[49m\u001b[38;5;28;43mprint\u001b[39;49m\u001b[43m(\u001b[49m\u001b[38;5;124;43mf\u001b[39;49m\u001b[38;5;124;43m\"\u001b[39;49m\u001b[38;5;130;43;01m\\n\u001b[39;49;00m\u001b[38;5;124;43m \u001b[39;49m\u001b[38;5;132;43;01m{\u001b[39;49;00m\u001b[43mi\u001b[49m\u001b[38;5;132;43;01m}\u001b[39;49;00m\u001b[38;5;124;43m.------------------------------------------------\u001b[39;49m\u001b[38;5;124;43m\"\u001b[39;49m\u001b[43m)\u001b[49m\n",
      "File \u001b[1;32mc:\\Users\\fredd\\AppData\\Local\\Programs\\Python\\Python312\\Lib\\site-packages\\tweepy\\cursor.py:86\u001b[0m, in \u001b[0;36mBaseIterator.__next__\u001b[1;34m(self)\u001b[0m\n\u001b[0;32m     85\u001b[0m \u001b[38;5;28;01mdef\u001b[39;00m \u001b[38;5;21m__next__\u001b[39m(\u001b[38;5;28mself\u001b[39m):\n\u001b[1;32m---> 86\u001b[0m     \u001b[38;5;28;01mreturn\u001b[39;00m \u001b[38;5;28;43mself\u001b[39;49m\u001b[38;5;241;43m.\u001b[39;49m\u001b[43mnext\u001b[49m\u001b[43m(\u001b[49m\u001b[43m)\u001b[49m\n",
      "File \u001b[1;32mc:\\Users\\fredd\\AppData\\Local\\Programs\\Python\\Python312\\Lib\\site-packages\\tweepy\\cursor.py:286\u001b[0m, in \u001b[0;36mItemIterator.next\u001b[1;34m(self)\u001b[0m\n\u001b[0;32m    283\u001b[0m     \u001b[38;5;28;01mraise\u001b[39;00m \u001b[38;5;167;01mStopIteration\u001b[39;00m\n\u001b[0;32m    284\u001b[0m \u001b[38;5;28;01mif\u001b[39;00m \u001b[38;5;28mself\u001b[39m\u001b[38;5;241m.\u001b[39mcurrent_page \u001b[38;5;129;01mis\u001b[39;00m \u001b[38;5;28;01mNone\u001b[39;00m \u001b[38;5;129;01mor\u001b[39;00m \u001b[38;5;28mself\u001b[39m\u001b[38;5;241m.\u001b[39mpage_index \u001b[38;5;241m==\u001b[39m \u001b[38;5;28mlen\u001b[39m(\u001b[38;5;28mself\u001b[39m\u001b[38;5;241m.\u001b[39mcurrent_page) \u001b[38;5;241m-\u001b[39m \u001b[38;5;241m1\u001b[39m:\n\u001b[0;32m    285\u001b[0m     \u001b[38;5;66;03m# Reached end of current page, get the next page...\u001b[39;00m\n\u001b[1;32m--> 286\u001b[0m     \u001b[38;5;28mself\u001b[39m\u001b[38;5;241m.\u001b[39mcurrent_page \u001b[38;5;241m=\u001b[39m \u001b[38;5;28;43mnext\u001b[39;49m\u001b[43m(\u001b[49m\u001b[38;5;28;43mself\u001b[39;49m\u001b[38;5;241;43m.\u001b[39;49m\u001b[43mpage_iterator\u001b[49m\u001b[43m)\u001b[49m\n\u001b[0;32m    287\u001b[0m     \u001b[38;5;28;01mwhile\u001b[39;00m \u001b[38;5;28mlen\u001b[39m(\u001b[38;5;28mself\u001b[39m\u001b[38;5;241m.\u001b[39mcurrent_page) \u001b[38;5;241m==\u001b[39m \u001b[38;5;241m0\u001b[39m:\n\u001b[0;32m    288\u001b[0m         \u001b[38;5;28mself\u001b[39m\u001b[38;5;241m.\u001b[39mcurrent_page \u001b[38;5;241m=\u001b[39m \u001b[38;5;28mnext\u001b[39m(\u001b[38;5;28mself\u001b[39m\u001b[38;5;241m.\u001b[39mpage_iterator)\n",
      "File \u001b[1;32mc:\\Users\\fredd\\AppData\\Local\\Programs\\Python\\Python312\\Lib\\site-packages\\tweepy\\cursor.py:86\u001b[0m, in \u001b[0;36mBaseIterator.__next__\u001b[1;34m(self)\u001b[0m\n\u001b[0;32m     85\u001b[0m \u001b[38;5;28;01mdef\u001b[39;00m \u001b[38;5;21m__next__\u001b[39m(\u001b[38;5;28mself\u001b[39m):\n\u001b[1;32m---> 86\u001b[0m     \u001b[38;5;28;01mreturn\u001b[39;00m \u001b[38;5;28;43mself\u001b[39;49m\u001b[38;5;241;43m.\u001b[39;49m\u001b[43mnext\u001b[49m\u001b[43m(\u001b[49m\u001b[43m)\u001b[49m\n",
      "File \u001b[1;32mc:\\Users\\fredd\\AppData\\Local\\Programs\\Python\\Python312\\Lib\\site-packages\\tweepy\\cursor.py:167\u001b[0m, in \u001b[0;36mIdIterator.next\u001b[1;34m(self)\u001b[0m\n\u001b[0;32m    164\u001b[0m     \u001b[38;5;28;01mraise\u001b[39;00m \u001b[38;5;167;01mStopIteration\u001b[39;00m\n\u001b[0;32m    166\u001b[0m \u001b[38;5;28;01mif\u001b[39;00m \u001b[38;5;28mself\u001b[39m\u001b[38;5;241m.\u001b[39mindex \u001b[38;5;241m>\u001b[39m\u001b[38;5;241m=\u001b[39m \u001b[38;5;28mlen\u001b[39m(\u001b[38;5;28mself\u001b[39m\u001b[38;5;241m.\u001b[39mresults) \u001b[38;5;241m-\u001b[39m \u001b[38;5;241m1\u001b[39m:\n\u001b[1;32m--> 167\u001b[0m     data \u001b[38;5;241m=\u001b[39m \u001b[38;5;28;43mself\u001b[39;49m\u001b[38;5;241;43m.\u001b[39;49m\u001b[43mmethod\u001b[49m\u001b[43m(\u001b[49m\u001b[43mmax_id\u001b[49m\u001b[38;5;241;43m=\u001b[39;49m\u001b[38;5;28;43mself\u001b[39;49m\u001b[38;5;241;43m.\u001b[39;49m\u001b[43mmax_id\u001b[49m\u001b[43m,\u001b[49m\u001b[43m \u001b[49m\u001b[43mparser\u001b[49m\u001b[38;5;241;43m=\u001b[39;49m\u001b[43mRawParser\u001b[49m\u001b[43m(\u001b[49m\u001b[43m)\u001b[49m\u001b[43m,\u001b[49m\u001b[43m \u001b[49m\u001b[38;5;241;43m*\u001b[39;49m\u001b[38;5;28;43mself\u001b[39;49m\u001b[38;5;241;43m.\u001b[39;49m\u001b[43margs\u001b[49m\u001b[43m,\u001b[49m\u001b[43m \u001b[49m\u001b[38;5;241;43m*\u001b[39;49m\u001b[38;5;241;43m*\u001b[39;49m\u001b[38;5;28;43mself\u001b[39;49m\u001b[38;5;241;43m.\u001b[39;49m\u001b[43mkwargs\u001b[49m\u001b[43m)\u001b[49m\n\u001b[0;32m    169\u001b[0m     model \u001b[38;5;241m=\u001b[39m ModelParser()\u001b[38;5;241m.\u001b[39mparse(\n\u001b[0;32m    170\u001b[0m         data, api \u001b[38;5;241m=\u001b[39m \u001b[38;5;28mself\u001b[39m\u001b[38;5;241m.\u001b[39mmethod\u001b[38;5;241m.\u001b[39m\u001b[38;5;18m__self__\u001b[39m,\n\u001b[0;32m    171\u001b[0m         payload_list\u001b[38;5;241m=\u001b[39m\u001b[38;5;28mself\u001b[39m\u001b[38;5;241m.\u001b[39mmethod\u001b[38;5;241m.\u001b[39mpayload_list,\n\u001b[0;32m    172\u001b[0m         payload_type\u001b[38;5;241m=\u001b[39m\u001b[38;5;28mself\u001b[39m\u001b[38;5;241m.\u001b[39mmethod\u001b[38;5;241m.\u001b[39mpayload_type\n\u001b[0;32m    173\u001b[0m     )\n\u001b[0;32m    174\u001b[0m     result \u001b[38;5;241m=\u001b[39m \u001b[38;5;28mself\u001b[39m\u001b[38;5;241m.\u001b[39mmethod\u001b[38;5;241m.\u001b[39m\u001b[38;5;18m__self__\u001b[39m\u001b[38;5;241m.\u001b[39mparser\u001b[38;5;241m.\u001b[39mparse(\n\u001b[0;32m    175\u001b[0m         data, api \u001b[38;5;241m=\u001b[39m \u001b[38;5;28mself\u001b[39m\u001b[38;5;241m.\u001b[39mmethod\u001b[38;5;241m.\u001b[39m\u001b[38;5;18m__self__\u001b[39m,\n\u001b[0;32m    176\u001b[0m         payload_list\u001b[38;5;241m=\u001b[39m\u001b[38;5;28mself\u001b[39m\u001b[38;5;241m.\u001b[39mmethod\u001b[38;5;241m.\u001b[39mpayload_list,\n\u001b[0;32m    177\u001b[0m         payload_type\u001b[38;5;241m=\u001b[39m\u001b[38;5;28mself\u001b[39m\u001b[38;5;241m.\u001b[39mmethod\u001b[38;5;241m.\u001b[39mpayload_type\n\u001b[0;32m    178\u001b[0m     )\n",
      "File \u001b[1;32mc:\\Users\\fredd\\AppData\\Local\\Programs\\Python\\Python312\\Lib\\site-packages\\tweepy\\api.py:33\u001b[0m, in \u001b[0;36mpagination.<locals>.decorator.<locals>.wrapper\u001b[1;34m(*args, **kwargs)\u001b[0m\n\u001b[0;32m     31\u001b[0m \u001b[38;5;129m@functools\u001b[39m\u001b[38;5;241m.\u001b[39mwraps(method)\n\u001b[0;32m     32\u001b[0m \u001b[38;5;28;01mdef\u001b[39;00m \u001b[38;5;21mwrapper\u001b[39m(\u001b[38;5;241m*\u001b[39margs, \u001b[38;5;241m*\u001b[39m\u001b[38;5;241m*\u001b[39mkwargs):\n\u001b[1;32m---> 33\u001b[0m     \u001b[38;5;28;01mreturn\u001b[39;00m \u001b[43mmethod\u001b[49m\u001b[43m(\u001b[49m\u001b[38;5;241;43m*\u001b[39;49m\u001b[43margs\u001b[49m\u001b[43m,\u001b[49m\u001b[43m \u001b[49m\u001b[38;5;241;43m*\u001b[39;49m\u001b[38;5;241;43m*\u001b[39;49m\u001b[43mkwargs\u001b[49m\u001b[43m)\u001b[49m\n",
      "File \u001b[1;32mc:\\Users\\fredd\\AppData\\Local\\Programs\\Python\\Python312\\Lib\\site-packages\\tweepy\\api.py:46\u001b[0m, in \u001b[0;36mpayload.<locals>.decorator.<locals>.wrapper\u001b[1;34m(*args, **kwargs)\u001b[0m\n\u001b[0;32m     44\u001b[0m kwargs[\u001b[38;5;124m'\u001b[39m\u001b[38;5;124mpayload_list\u001b[39m\u001b[38;5;124m'\u001b[39m] \u001b[38;5;241m=\u001b[39m payload_list\n\u001b[0;32m     45\u001b[0m kwargs[\u001b[38;5;124m'\u001b[39m\u001b[38;5;124mpayload_type\u001b[39m\u001b[38;5;124m'\u001b[39m] \u001b[38;5;241m=\u001b[39m payload_type\n\u001b[1;32m---> 46\u001b[0m \u001b[38;5;28;01mreturn\u001b[39;00m \u001b[43mmethod\u001b[49m\u001b[43m(\u001b[49m\u001b[38;5;241;43m*\u001b[39;49m\u001b[43margs\u001b[49m\u001b[43m,\u001b[49m\u001b[43m \u001b[49m\u001b[38;5;241;43m*\u001b[39;49m\u001b[38;5;241;43m*\u001b[39;49m\u001b[43mkwargs\u001b[49m\u001b[43m)\u001b[49m\n",
      "File \u001b[1;32mc:\\Users\\fredd\\AppData\\Local\\Programs\\Python\\Python312\\Lib\\site-packages\\tweepy\\api.py:1146\u001b[0m, in \u001b[0;36mAPI.search_tweets\u001b[1;34m(self, q, **kwargs)\u001b[0m\n\u001b[0;32m   1052\u001b[0m \u001b[38;5;129m@pagination\u001b[39m(mode\u001b[38;5;241m=\u001b[39m\u001b[38;5;124m'\u001b[39m\u001b[38;5;124mid\u001b[39m\u001b[38;5;124m'\u001b[39m)\n\u001b[0;32m   1053\u001b[0m \u001b[38;5;129m@payload\u001b[39m(\u001b[38;5;124m'\u001b[39m\u001b[38;5;124msearch_results\u001b[39m\u001b[38;5;124m'\u001b[39m)\n\u001b[0;32m   1054\u001b[0m \u001b[38;5;28;01mdef\u001b[39;00m \u001b[38;5;21msearch_tweets\u001b[39m(\u001b[38;5;28mself\u001b[39m, q, \u001b[38;5;241m*\u001b[39m\u001b[38;5;241m*\u001b[39mkwargs):\n\u001b[0;32m   1055\u001b[0m \u001b[38;5;250m    \u001b[39m\u001b[38;5;124;03m\"\"\"search_tweets(q, *, geocode, lang, locale, result_type, count, \\\u001b[39;00m\n\u001b[0;32m   1056\u001b[0m \u001b[38;5;124;03m                     until, since_id, max_id, include_entities)\u001b[39;00m\n\u001b[0;32m   1057\u001b[0m \n\u001b[1;32m   (...)\u001b[0m\n\u001b[0;32m   1144\u001b[0m \u001b[38;5;124;03m    .. _Twitter's documentation on the standard search API: https://developer.twitter.com/en/docs/twitter-api/v1/tweets/search/overview\u001b[39;00m\n\u001b[0;32m   1145\u001b[0m \u001b[38;5;124;03m    \"\"\"\u001b[39;00m\n\u001b[1;32m-> 1146\u001b[0m     \u001b[38;5;28;01mreturn\u001b[39;00m \u001b[38;5;28;43mself\u001b[39;49m\u001b[38;5;241;43m.\u001b[39;49m\u001b[43mrequest\u001b[49m\u001b[43m(\u001b[49m\n\u001b[0;32m   1147\u001b[0m \u001b[43m        \u001b[49m\u001b[38;5;124;43m'\u001b[39;49m\u001b[38;5;124;43mGET\u001b[39;49m\u001b[38;5;124;43m'\u001b[39;49m\u001b[43m,\u001b[49m\u001b[43m \u001b[49m\u001b[38;5;124;43m'\u001b[39;49m\u001b[38;5;124;43msearch/tweets\u001b[39;49m\u001b[38;5;124;43m'\u001b[39;49m\u001b[43m,\u001b[49m\u001b[43m \u001b[49m\u001b[43mendpoint_parameters\u001b[49m\u001b[38;5;241;43m=\u001b[39;49m\u001b[43m(\u001b[49m\n\u001b[0;32m   1148\u001b[0m \u001b[43m            \u001b[49m\u001b[38;5;124;43m'\u001b[39;49m\u001b[38;5;124;43mq\u001b[39;49m\u001b[38;5;124;43m'\u001b[39;49m\u001b[43m,\u001b[49m\u001b[43m \u001b[49m\u001b[38;5;124;43m'\u001b[39;49m\u001b[38;5;124;43mgeocode\u001b[39;49m\u001b[38;5;124;43m'\u001b[39;49m\u001b[43m,\u001b[49m\u001b[43m \u001b[49m\u001b[38;5;124;43m'\u001b[39;49m\u001b[38;5;124;43mlang\u001b[39;49m\u001b[38;5;124;43m'\u001b[39;49m\u001b[43m,\u001b[49m\u001b[43m \u001b[49m\u001b[38;5;124;43m'\u001b[39;49m\u001b[38;5;124;43mlocale\u001b[39;49m\u001b[38;5;124;43m'\u001b[39;49m\u001b[43m,\u001b[49m\u001b[43m \u001b[49m\u001b[38;5;124;43m'\u001b[39;49m\u001b[38;5;124;43mresult_type\u001b[39;49m\u001b[38;5;124;43m'\u001b[39;49m\u001b[43m,\u001b[49m\u001b[43m \u001b[49m\u001b[38;5;124;43m'\u001b[39;49m\u001b[38;5;124;43mcount\u001b[39;49m\u001b[38;5;124;43m'\u001b[39;49m\u001b[43m,\u001b[49m\n\u001b[0;32m   1149\u001b[0m \u001b[43m            \u001b[49m\u001b[38;5;124;43m'\u001b[39;49m\u001b[38;5;124;43muntil\u001b[39;49m\u001b[38;5;124;43m'\u001b[39;49m\u001b[43m,\u001b[49m\u001b[43m \u001b[49m\u001b[38;5;124;43m'\u001b[39;49m\u001b[38;5;124;43msince_id\u001b[39;49m\u001b[38;5;124;43m'\u001b[39;49m\u001b[43m,\u001b[49m\u001b[43m \u001b[49m\u001b[38;5;124;43m'\u001b[39;49m\u001b[38;5;124;43mmax_id\u001b[39;49m\u001b[38;5;124;43m'\u001b[39;49m\u001b[43m,\u001b[49m\u001b[43m \u001b[49m\u001b[38;5;124;43m'\u001b[39;49m\u001b[38;5;124;43minclude_entities\u001b[39;49m\u001b[38;5;124;43m'\u001b[39;49m\n\u001b[0;32m   1150\u001b[0m \u001b[43m        \u001b[49m\u001b[43m)\u001b[49m\u001b[43m,\u001b[49m\u001b[43m \u001b[49m\u001b[43mq\u001b[49m\u001b[38;5;241;43m=\u001b[39;49m\u001b[43mq\u001b[49m\u001b[43m,\u001b[49m\u001b[43m \u001b[49m\u001b[38;5;241;43m*\u001b[39;49m\u001b[38;5;241;43m*\u001b[39;49m\u001b[43mkwargs\u001b[49m\n\u001b[0;32m   1151\u001b[0m \u001b[43m    \u001b[49m\u001b[43m)\u001b[49m\n",
      "File \u001b[1;32mc:\\Users\\fredd\\AppData\\Local\\Programs\\Python\\Python312\\Lib\\site-packages\\tweepy\\api.py:269\u001b[0m, in \u001b[0;36mAPI.request\u001b[1;34m(self, method, endpoint, endpoint_parameters, params, headers, json_payload, parser, payload_list, payload_type, post_data, files, require_auth, return_cursors, upload_api, use_cache, **kwargs)\u001b[0m\n\u001b[0;32m    267\u001b[0m     \u001b[38;5;28;01mraise\u001b[39;00m BadRequest(resp)\n\u001b[0;32m    268\u001b[0m \u001b[38;5;28;01mif\u001b[39;00m resp\u001b[38;5;241m.\u001b[39mstatus_code \u001b[38;5;241m==\u001b[39m \u001b[38;5;241m401\u001b[39m:\n\u001b[1;32m--> 269\u001b[0m     \u001b[38;5;28;01mraise\u001b[39;00m Unauthorized(resp)\n\u001b[0;32m    270\u001b[0m \u001b[38;5;28;01mif\u001b[39;00m resp\u001b[38;5;241m.\u001b[39mstatus_code \u001b[38;5;241m==\u001b[39m \u001b[38;5;241m403\u001b[39m:\n\u001b[0;32m    271\u001b[0m     \u001b[38;5;28;01mraise\u001b[39;00m Forbidden(resp)\n",
      "\u001b[1;31mUnauthorized\u001b[0m: 401 Unauthorized\n89 - Invalid or expired token."
     ]
    }
   ],
   "source": [
    "# Configuramos los términos de nuestra búsqueda\n",
    "texto_a_buscar = '@BLACKPINK'\n",
    "cantidad_resultados = 20\n",
    "fechas_inicial = \"2024-06-29\"\n",
    "idioma = \"es\"\n",
    "\n",
    "# Open the CSV file using a context manager\n",
    "with open('tweets.csv', 'a+', newline='', encoding='utf-8') as csvFile:\n",
    "    csvWriter = csv.writer(csvFile)\n",
    "    \n",
    "    # Write header if file is empty\n",
    "    if csvFile.tell() == 0:\n",
    "        csvWriter.writerow(['Fecha', 'Usuario', 'Texto'])\n",
    "    \n",
    "    # Search and write tweets to the CSV file\n",
    "    i = 0\n",
    "    for tweet in tweepy.Cursor(api.search_tweets, q=texto_a_buscar, lang=idioma, since=fechas_inicial).items(cantidad_resultados):\n",
    "        i += 1\n",
    "        print(f\"\\n {i}.------------------------------------------------\")\n",
    "        print(f\"{tweet.created_at} [ {tweet.user.screen_name} ]\\n {tweet.text}\")\n",
    "        \n",
    "        # Save tweet to CSV file\n",
    "        csvWriter.writerow([tweet.created_at, tweet.user.screen_name, tweet.text])\n",
    "\n",
    "print(\"Tweets have been saved to tweets.csv\")\n"
   ]
  }
 ],
 "metadata": {
  "kernelspec": {
   "display_name": "Python 3",
   "language": "python",
   "name": "python3"
  },
  "language_info": {
   "codemirror_mode": {
    "name": "ipython",
    "version": 3
   },
   "file_extension": ".py",
   "mimetype": "text/x-python",
   "name": "python",
   "nbconvert_exporter": "python",
   "pygments_lexer": "ipython3",
   "version": "3.12.3"
  }
 },
 "nbformat": 4,
 "nbformat_minor": 2
}
